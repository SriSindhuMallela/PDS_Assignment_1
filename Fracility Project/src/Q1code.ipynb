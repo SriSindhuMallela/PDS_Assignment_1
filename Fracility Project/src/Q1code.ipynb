{
 "cells": [
  {
   "cell_type": "markdown",
   "id": "ea25696e",
   "metadata": {},
   "source": [
    "# 1. Raw data loading"
   ]
  },
  {
   "cell_type": "code",
   "execution_count": 1,
   "id": "7838cb91",
   "metadata": {},
   "outputs": [],
   "source": [
    "import pandas as pd\n",
    "\n",
    "# Loading my raw data\n",
    "raw_data = pd.read_csv(\"C:/Users/srisi_w/Desktop/Python_Practice/Fracility Project/1.raw data/raw_data.csv\")"
   ]
  },
  {
   "cell_type": "markdown",
   "id": "92302913",
   "metadata": {},
   "source": [
    "# 2. Data_cleaning steps:"
   ]
  },
  {
   "cell_type": "code",
   "execution_count": 2,
   "id": "9d8cc971",
   "metadata": {},
   "outputs": [],
   "source": [
    "import pandas as pd\n",
    "\n",
    "# Specifying the path to my raw data CSV file\n",
    "file_path = \"C:/Users/srisi_w/Desktop/Python_Practice/Fracility Project/1.raw data/raw_data.csv\"  \n",
    "\n",
    "# Loading the CSV file into a Pandas DataFrame\n",
    "df = pd.read_csv(file_path)"
   ]
  },
  {
   "cell_type": "code",
   "execution_count": 3,
   "id": "f02f237c",
   "metadata": {
    "scrolled": true
   },
   "outputs": [
    {
     "name": "stdout",
     "output_type": "stream",
     "text": [
      "Missing Values:\n",
      "Height           0\n",
      "Weight           0\n",
      "Age              0\n",
      "Grip strength    0\n",
      "Frailty          0\n",
      "dtype: int64\n",
      "\n",
      "Cleaned Dataset:\n",
      "   Height  Weight  Age  Grip strength Frailty\n",
      "0    65.8   112.0   30           30.0       N\n",
      "1    71.5   136.0   19           31.0       N\n",
      "2    69.4   153.0   45           29.0       N\n",
      "3    68.2   142.0   22           28.0       Y\n",
      "4    67.8   144.0   29           24.0       Y\n",
      "5    68.7   123.0   50           26.0       N\n",
      "6    69.8   141.0   51           22.0       Y\n",
      "7    70.1   136.0   23           20.0       Y\n",
      "8    67.9   112.0   17           19.0       N\n",
      "9    66.8   120.0   39           31.0       N\n"
     ]
    }
   ],
   "source": [
    "import pandas as pd\n",
    "\n",
    "# Checking for missing values\n",
    "missing_values = df.isnull().sum()\n",
    "print(\"Missing Values:\")\n",
    "print(missing_values)\n",
    "\n",
    "# Converting data types if needed (e.g., ensuring numeric columns are of numeric data type)\n",
    "df['Height'] = df['Height'].astype(float)\n",
    "df['Weight'] = df['Weight'].astype(float)\n",
    "df['Age'] = df['Age'].astype(int)\n",
    "df['Grip strength'] = df['Grip strength'].astype(float)\n",
    "\n",
    "# Printing the cleaned dataset\n",
    "print(\"\\nCleaned Dataset:\")\n",
    "print(df)"
   ]
  },
  {
   "cell_type": "markdown",
   "id": "3ec2944f",
   "metadata": {},
   "source": [
    "### saving cleaned data:"
   ]
  },
  {
   "cell_type": "code",
   "execution_count": 4,
   "id": "f2d99900",
   "metadata": {},
   "outputs": [],
   "source": [
    "# Saving the cleaned data of above\n",
    "df.to_csv(\"C:/Users/srisi_w/Desktop/Python_Practice/Fracility Project/2. cleaned_data/cleaned_data.csv\", index=False)"
   ]
  },
  {
   "cell_type": "markdown",
   "id": "0d6bdbe8",
   "metadata": {},
   "source": [
    "# 3. data analysis part:"
   ]
  },
  {
   "cell_type": "code",
   "execution_count": 5,
   "id": "8fe4bf86",
   "metadata": {},
   "outputs": [
    {
     "name": "stdout",
     "output_type": "stream",
     "text": [
      "          Height      Weight        Age  Grip strength\n",
      "count  10.000000   10.000000  10.000000      10.000000\n",
      "mean   68.600000  131.900000  32.500000      26.000000\n",
      "std     1.670662   14.231811  12.860361       4.521553\n",
      "min    65.800000  112.000000  17.000000      19.000000\n",
      "25%    67.825000  120.750000  22.250000      22.500000\n",
      "50%    68.450000  136.000000  29.500000      27.000000\n",
      "75%    69.700000  141.750000  43.500000      29.750000\n",
      "max    71.500000  153.000000  51.000000      31.000000\n"
     ]
    }
   ],
   "source": [
    "import matplotlib.pyplot as plt\n",
    "import seaborn as sns\n",
    "\n",
    "# Loading the cleaned data\n",
    "cleaned_data = pd.read_csv(\"C:/Users/srisi_w/Desktop/Python_Practice/Fracility Project/2. cleaned_data/cleaned_data.csv\")\n",
    "\n",
    "# Descriptive statistics of cleaned data\n",
    "print(cleaned_data.describe())"
   ]
  },
  {
   "cell_type": "markdown",
   "id": "f95af1e9",
   "metadata": {},
   "source": [
    "## statistical_analysis: t-test stastics:"
   ]
  },
  {
   "cell_type": "code",
   "execution_count": 6,
   "id": "6e88a70a",
   "metadata": {},
   "outputs": [],
   "source": [
    "import pandas as pd\n",
    "import scipy.stats as stats\n",
    "\n",
    "# Loading my cleaned dataset \n",
    "df = pd.read_csv(\"C:/Users/srisi_w/Desktop/Python_Practice/Fracility Project/2. cleaned_data/cleaned_data.csv\")\n",
    "\n",
    "# Separating data into two groups based on Frailty\n",
    "frail_group = df[df['Frailty'] == 'Y']\n",
    "non_frail_group = df[df['Frailty'] == 'N']\n",
    "\n",
    "# Performing an independent t-test on Grip strength between the two groups\n",
    "t_statistic_grip_strength, p_value_grip_strength = stats.ttest_ind(\n",
    "    frail_group['Grip strength'],\n",
    "    non_frail_group['Grip strength']\n",
    ")\n",
    "\n",
    "# Performing an independent t-test on Height between the two groups\n",
    "t_statistic_height, p_value_height = stats.ttest_ind(\n",
    "    frail_group['Height'],\n",
    "    non_frail_group['Height']\n",
    ")\n",
    "\n",
    "# Creating a DataFrame to store the results\n",
    "t_test_results = pd.DataFrame({\n",
    "    'Variable': ['Grip strength', 'Height'],\n",
    "    'T-statistic': [t_statistic_grip_strength, t_statistic_height],\n",
    "    'P-value': [p_value_grip_strength, p_value_height]\n",
    "})\n"
   ]
  },
  {
   "cell_type": "markdown",
   "id": "445a83f8",
   "metadata": {},
   "source": [
    "## Saving results of t-test"
   ]
  },
  {
   "cell_type": "code",
   "execution_count": 7,
   "id": "ff14b49c",
   "metadata": {},
   "outputs": [],
   "source": [
    "# Saving the DataFrame to a CSV file in my results documentation\n",
    "t_test_results.to_csv(\"C:/Users/srisi_w/Desktop/Python_Practice/Fracility Project/3. Results_Documentation/t_test_results.csv\", index=False)"
   ]
  },
  {
   "cell_type": "code",
   "execution_count": null,
   "id": "f880b695",
   "metadata": {},
   "outputs": [],
   "source": []
  }
 ],
 "metadata": {
  "kernelspec": {
   "display_name": "Python 3 (ipykernel)",
   "language": "python",
   "name": "python3"
  },
  "language_info": {
   "codemirror_mode": {
    "name": "ipython",
    "version": 3
   },
   "file_extension": ".py",
   "mimetype": "text/x-python",
   "name": "python",
   "nbconvert_exporter": "python",
   "pygments_lexer": "ipython3",
   "version": "3.9.7"
  }
 },
 "nbformat": 4,
 "nbformat_minor": 5
}
